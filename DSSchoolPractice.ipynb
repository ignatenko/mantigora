{
  "nbformat": 4,
  "nbformat_minor": 0,
  "metadata": {
    "colab": {
      "name": "DSSchoolPractice.ipynb",
      "provenance": [],
      "collapsed_sections": [],
      "authorship_tag": "ABX9TyOdAc6/E0hARMjPnEceB0k1",
      "include_colab_link": true
    },
    "kernelspec": {
      "name": "python3",
      "display_name": "Python 3"
    }
  },
  "cells": [
    {
      "cell_type": "markdown",
      "metadata": {
        "id": "view-in-github",
        "colab_type": "text"
      },
      "source": [
        "<a href=\"https://colab.research.google.com/github/ignatenko/mantigora/blob/master/DSSchoolPractice.ipynb\" target=\"_parent\"><img src=\"https://colab.research.google.com/assets/colab-badge.svg\" alt=\"Open In Colab\"/></a>"
      ]
    },
    {
      "cell_type": "markdown",
      "metadata": {
        "id": "mvPIfDvnVN80",
        "colab_type": "text"
      },
      "source": [
        "# Ігри в нормальній формі\n",
        "\n",
        "> Теорія ігор досліджує взаємодію стратегічних агентів.  \n",
        "\n",
        "## Приклад гри\n",
        "\n",
        "Розглянемо наступну гру:\n",
        "\n",
        "> Двоє гравців одночасно вибирають H або T. Якщо вибори співпадають, то перший гравець виграє 1, другий програє 1. Якщо не співпадають, то навпаки.\n",
        "\n",
        "Позначимо гравців Аліса (перший) і Боб (другий). Для представлення математично цієї стратегічної ситуації ми призначимо **виграші** (**payoffs**) кожній з чотирьох можливих ситуацій (**outcomes**):\n",
        "\n",
        "1. Аліса вибирає H, Боб вибирає T: Аліса - 1, Боб + 1.\n",
        "2. Аліса вибирає H, Боб вибирає H: Аліса + 1, Боб - 1.\n",
        "3. Аліса вибирає T, Боб вибирає T: Аліса + 1, Боб - 1.\n",
        "4. Аліса вибирає T, Боб вибирає H: Аліса - 1, Боб + 1.\n",
        "\n",
        "Ця гра отримала назву *Matching pennies* і ми її представимо у матричному вигляді так:\n",
        "\n",
        "Matching pennies | H | T\n",
        "--- | --- | ---\n",
        "H  | 1 -1 | -1 1 \n",
        "T | -1 1 | 1 -1\n",
        "\n",
        "Також можна представити її у вигляді двох матриць (це зручно для пакету NashPy), $A$ - це виграші Аліси:\n",
        "\n",
        "$$\n",
        "A = \n",
        "\\begin{pmatrix}\n",
        "1 & -1\\\\\n",
        "-1 & 1\n",
        "\\end{pmatrix}\n",
        "$$\n",
        "\n",
        "а матриця $B$ представляє виграші Боба:\n",
        "\n",
        "$$\n",
        "B = \n",
        "\\begin{pmatrix}\n",
        "-1 & 1\\\\\n",
        "1 & -1\n",
        "\\end{pmatrix}\n",
        "$$\n",
        "\n",
        "За домовленістю **Аліса вибирає рядки** а **Боб вибирає стовпці**: \n",
        "Це представлення називається **Грою в нормальній (стратегічній) формі**. \n",
        "\n",
        "**NB!** Якщо ви помітили в останньому прикладі вийшло $A = -B$. Тому насправді достатньо однієї матриці. \n",
        "\n",
        "> Такі ігри називають **іграми з нульовою сумою**. Або просто **матричними**\n",
        "\n",
        "Ігри в яких це не виконується називаються біматричними (бо потрібно дві матриці для опису). \n",
        "\n",
        "## Ще один приклад\n",
        "\n",
        "> Пара вирішує, що вони хочуть дивитись спорт чи комедію. Алісі більше подобається комедія, а Боб любить спорт. Важливо, що вони більш цінують перегляд ТВ разом ніж окремо.\n",
        "\n",
        "Для представлення математично цієї стратегічної ситуації ми призначимо **корисності** кожній з чотирьох можливих ситуацій:\n",
        "\n",
        "1. Аліса дивиться спорт, Боб дивиться комедію: Аліса і Боб отримують $0$.\n",
        "2. Аліса дивиться комедію, Боб дивиться спорт: Аліса і Боб отримують $0$.\n",
        "3. Аліса і Боб дивляться спорт: Аліса отримує $3$, Боб отримує $2$.\n",
        "4. Аліса і Боб дивляться комедію: Аліса отримує $2$, Боб отримує $3$.\n",
        "\n",
        "Ця гра отримала назву \"Сімейна сварка\" (\"battle of the sexes\", \"bach or stravinsky\" ) і ми її представимо у вигляді двох матриць, $A$ - це виграші Аліси:\n",
        "\n",
        "$$\n",
        "A = \n",
        "\\begin{pmatrix}\n",
        "3 & 0\\\\\n",
        "0 & 2\n",
        "\\end{pmatrix}\n",
        "$$\n",
        "\n",
        "а матриця $B$ представляє виграші Боба:\n",
        "\n",
        "$$\n",
        "B = \n",
        "\\begin{pmatrix}\n",
        "2 & 0\\\\\n",
        "0 & 3\n",
        "\\end{pmatrix}\n",
        "$$\n",
        "\n",
        "---\n",
        "\n",
        "## Формальне визначення\n",
        "\n",
        "\n",
        "Гра \\\\(N\\\\) учасників в стратегічній формі містить:\n",
        "\n",
        "- Скінченну множину гравців $N$\n",
        "- Простори стратегій для кожного гравця: $\\{S_1,S_2,S_3,\\dots,S_N\\}$;\n",
        "- Функції виграшу для кожного гравця: $u_i:S_1\\times S_2\\dots\\times S_N\\to\\mathbb{R}$\n",
        "\n",
        "---\n",
        "\n",
        "Для гри сімейна сварка:\n",
        "\n",
        "- У нас двоє гравців (Аліса і Боб) \n",
        "- Простори стратегій : $S_1=S_2=\\{\\text{комедія}, \\text{спорт}\\}$ або еквівалентно $S_1=S_2=\\{1, 2\\}$\n",
        "- Функції виграшу відображують елемент декартової множини просторів стратегій $\\tilde s \\in S_1\\times S_2=\\{(1, 1), (1, 2), (2, 1), (2, 2)\\}$ в $\\mathbb{R}$:\n",
        "\n",
        "   $$u_1(\\tilde s)=A_{\\tilde s},$$\n",
        "   \n",
        "   $$u_2(\\tilde s)=B_{\\tilde s}.$$\n",
        "   \n",
        "---"
      ]
    },
    {
      "cell_type": "markdown",
      "metadata": {
        "id": "kyOCS4y8YWlZ",
        "colab_type": "text"
      },
      "source": [
        "## Задачі для розв'язання\n",
        "\n",
        "## Представити гру у стратегічній формі.\n",
        "\n",
        "1. **Автобус**. П’ятеро гравців (A, B, C, D, E) їздять на роботу кожен день. Вони можуть їхати машиною або автобусом. Якщо вони їдуть машиною, то кожен платить різну ціну (1, 3, 5, 7, 9 відповідно). Якщо вони їдуть автобусом, то вартість квитка залежить від того яка кількість гравців використовує автобус. Якщо використовує один, то квиток коштує 10, двоє - 8, троє - 6, четверо - 4 і якщо всі використовують, то 2. \n",
        "\n",
        "2. **Поділ піци**. Ви з другом в італійському ресторані і власник пропонує зіграти в наступну гру. Він хоче подарувати вам стандартну 8-кускову піцу ща таких умов. Ви маєте одночасно з другом оголосити кількість шматочків, які ви хочете. Якщо сума більше 7, то ви нічого не одержуєте. Якщо сума менша або рівна 7, то кожен отримує свою кількість. \n",
        "\n",
        "Більш складна задача.\n",
        "\n",
        "3. **Лотерея**. Троє гравців вирішують чи грати у лотереї. Правила лотереї такі: приз 30 доларів. Є квитки двох типів - малий за 15 і великий за 30. Кожен гравець має вирішити купувати малий, великий або ніякого. Перемагає той, хто купив найбільший квиток, якщо таких немає, то приз не вручається. Якщо декілька мають однакові вищі квитки, то приз ділиться між ними порівну. Побудувати матрицю гри."
      ]
    },
    {
      "cell_type": "markdown",
      "metadata": {
        "id": "s1mfEJYJfAlx",
        "colab_type": "text"
      },
      "source": [
        "## Пакет NashPy"
      ]
    },
    {
      "cell_type": "code",
      "metadata": {
        "id": "v6nOq91-fcO0",
        "colab_type": "code",
        "outputId": "73071623-4d95-4759-aa16-5142560f724d",
        "colab": {
          "base_uri": "https://localhost:8080/",
          "height": 68
        }
      },
      "source": [
        "!pip install nashpy\n",
        "import nashpy as nash"
      ],
      "execution_count": 0,
      "outputs": [
        {
          "output_type": "stream",
          "text": [
            "Requirement already satisfied: nashpy in /usr/local/lib/python3.6/dist-packages (0.0.19)\n",
            "Requirement already satisfied: numpy>=1.12.1 in /usr/local/lib/python3.6/dist-packages (from nashpy) (1.17.5)\n",
            "Requirement already satisfied: scipy>=0.19.0 in /usr/local/lib/python3.6/dist-packages (from nashpy) (1.4.1)\n"
          ],
          "name": "stdout"
        }
      ]
    },
    {
      "cell_type": "code",
      "metadata": {
        "id": "vgF4iRk0i8Rw",
        "colab_type": "code",
        "outputId": "968e27cf-b514-4f34-f377-93afc1d5df35",
        "colab": {
          "base_uri": "https://localhost:8080/",
          "height": 170
        }
      },
      "source": [
        "# Заведемо гру matching pennies\n",
        "\n",
        "A = [[1, -1], [-1, 1]]\n",
        "matching_pennies = nash.Game(A)\n",
        "matching_pennies"
      ],
      "execution_count": 0,
      "outputs": [
        {
          "output_type": "execute_result",
          "data": {
            "text/plain": [
              "Zero sum game with payoff matrices:\n",
              "\n",
              "Row player:\n",
              "[[ 1 -1]\n",
              " [-1  1]]\n",
              "\n",
              "Column player:\n",
              "[[-1  1]\n",
              " [ 1 -1]]"
            ]
          },
          "metadata": {
            "tags": []
          },
          "execution_count": 5
        }
      ]
    },
    {
      "cell_type": "code",
      "metadata": {
        "id": "BUssnC_kith9",
        "colab_type": "code",
        "outputId": "4446c8d1-e444-44ff-8626-5ae2f055d91f",
        "colab": {
          "base_uri": "https://localhost:8080/",
          "height": 170
        }
      },
      "source": [
        "# Заведемо гру сімейна сварка\n",
        "\n",
        "A = [[3, 1], [0, 2]]\n",
        "B = [[2, 1], [0, 3]]\n",
        "battle_of_the_sexes = nash.Game(A, B)\n",
        "battle_of_the_sexes"
      ],
      "execution_count": 0,
      "outputs": [
        {
          "output_type": "execute_result",
          "data": {
            "text/plain": [
              "Bi matrix game with payoff matrices:\n",
              "\n",
              "Row player:\n",
              "[[3 1]\n",
              " [0 2]]\n",
              "\n",
              "Column player:\n",
              "[[2 1]\n",
              " [0 3]]"
            ]
          },
          "metadata": {
            "tags": []
          },
          "execution_count": 4
        }
      ]
    },
    {
      "cell_type": "code",
      "metadata": {
        "id": "JLyNYgdHjO-o",
        "colab_type": "code",
        "colab": {}
      },
      "source": [
        ""
      ],
      "execution_count": 0,
      "outputs": []
    },
    {
      "cell_type": "markdown",
      "metadata": {
        "id": "0btx761vjPOp",
        "colab_type": "text"
      },
      "source": [
        "## Ідея домінуючих і домінованих стратегій\n",
        "\n",
        "Проаналізуємо матрицю\n",
        "\n",
        "$$\n",
        "\\begin{pmatrix}\n",
        "2, 3 & 5, 0\\\\\n",
        "1, 0 & 4, 3\n",
        "\\end{pmatrix}\n",
        "$$\n",
        "\n",
        "Що можна про неї сказати?\n",
        "\n",
        "## Домінуюча стратегія\n",
        "\n",
        "> Чиста стратегія $s_i$ гравця $i$ є домінуючою (слабо домінуючою), якщо виконується $ u_i(s_i, s_{-i}) > (\\ge) u_i(\\hat{s}_i, s_{-i})$, для всіх стратегій $\\hat{s}_i \\in S_i \\backslash \\{s_i\\} $.\n",
        "\n",
        "Домінуюча стратегія, це стратегія, яка дає кращий виграш ніж будь-яка інша стратегія.\n",
        "\n",
        "$$\n",
        "\\begin{pmatrix}\n",
        "2, 3 & 5, 0\\\\\n",
        "1, 0 & 4, 3\n",
        "\\end{pmatrix}\n",
        "$$\n",
        "\n",
        "В даному прикладі перша стратегія першого гравця - домінуюча.  \n",
        "\n",
        "## Домінована стратегія\n",
        "\n",
        "> Чиста стратегія $s_i$ гравця $i$ є домінованою, якщо існує стратегія (чиста або змішана)  $\\sigma_i \\in \\Delta S_i$, таке, що $ u_i(\\sigma_i , s_{-i}) > u_i(s_i , s_{-i})$, для всіх стратегій $s_{−i} \\in S_{−i} $ інших гравців.\n",
        "\n",
        "Раціональний гравець не буде грати доміновані стратегії.\n",
        "\n",
        "Спробуємо розв'язати наступну матричну гру.\n",
        "\n",
        "$$\n",
        "\\begin{pmatrix}\n",
        "8, 3 & 0, 4 & 4, 4\\\\\n",
        "4, 2 & 1, 5 & 5, 3 \\\\\n",
        "3, 7 & 0, 1 & 2, 0\n",
        "\\end{pmatrix}\n",
        "$$\n",
        "\n",
        "## Розв'яжемо тепер гру про автобус."
      ]
    },
    {
      "cell_type": "markdown",
      "metadata": {
        "id": "LF9GXowml97X",
        "colab_type": "text"
      },
      "source": [
        "# Стратегії гравців і їх корисність. Чисті і змішані стратегії. Рівновага в змішаних стратегіях.\n",
        "\n",
        "---\n",
        "\n",
        "## Визначення змішаних стратегій\n",
        "\n",
        "\n",
        "> Змішана стратегія гравця $i$ з множиною стратегій $S_i$ позначається $\\sigma_i \\in [0,1]_{\\mathbb{R}}^{|S_i|}$ та відповідає ймовірносному розподілу на просторі чистих стратегій.\n",
        "\n",
        "Тобто виконується: \n",
        "\n",
        "$$\n",
        "\\sum_{i=1}^{|S_i|}\\sigma_i = 1\n",
        "$$\n",
        "\n",
        "---\n",
        "\n",
        "Очікуваний виграш гравця є мірою розподілу ймовірності.\n",
        "\n",
        "---\n",
        "\n",
        "## Обчислення корисності стратегії\n",
        "\n",
        "Розглянемо гру \n",
        "$(A, B)\\in\\mathbb{{R^{m \\times n}}^2}$, і нехай $\\sigma_r$ та $\\sigma_c$ - це змішані стратегії для першого і другого гравця відповідно. Тоді гравці отримають наступні виграші: \n",
        "\n",
        "$$\n",
        "u_r(\\sigma_r, \\sigma_c) = \\sum_{i=1}^m\\sum_{j=1}^nA_{ij}{\\sigma_r}_i{\\sigma_c}_j\n",
        "$$\n",
        "\n",
        "та:\n",
        "\n",
        "$$\n",
        "u_c(\\sigma_r, \\sigma_c) = \\sum_{i=1}^m\\sum_{j=1}^nB_{ij}{\\sigma_r}_i{\\sigma_c}_j\n",
        "$$\n",
        "\n",
        "Це випливає з того, що:\n",
        "\n",
        "- Ймовірність опинитись в певній клітинці  $A$ або $B$: ${\\sigma_r}_i{\\sigma_c}_j$\n",
        "- Значення виграшу в клітинці дорівнює: $A_{ij}$ або $B_{ij}$\n",
        "\n",
        "---\n",
        "\n",
        "## Розглянемо декілька прикладів.\n",
        "\n",
        "### Орлянка\n",
        "\n",
        "Гра визначається наступними матрицями:\n",
        "\n",
        "$$\n",
        "A =\n",
        "\\begin{pmatrix}\n",
        "    1 & -1\\\\\n",
        "    -1 & 1\n",
        "\\end{pmatrix}\\qquad\n",
        "B =\n",
        "\\begin{pmatrix}\n",
        "    -1 & 1\\\\\n",
        "    1 & -1\n",
        "\\end{pmatrix}\n",
        "$$\n",
        "\n",
        "Проаналізуємо цю гру. Позначимо найкращі відповіді:\n",
        "\n",
        "$$\n",
        "A =\n",
        "\\begin{pmatrix}\n",
        "    1^* & -1\\\\\n",
        "    -1 & 1^*\n",
        "\\end{pmatrix}\\qquad\n",
        "B =\n",
        "\\begin{pmatrix}\n",
        "    -1 & 1^*\\\\\n",
        "    1^* & -1\n",
        "\\end{pmatrix}\n",
        "$$\n",
        "\n",
        "Отже рівноваги в чистих стратегіях немає. \n",
        "\n",
        "Припустимо, що гравці вибрали такі змішані стратегії:\n",
        "\n",
        "$$\n",
        "\\sigma_r = (.2, .8)\n",
        "\\qquad\n",
        "\\sigma_c = (.6, .4)\n",
        "$$\n",
        "\n",
        "Тоді виграші будуть рівні:\n",
        "\n",
        "$$\n",
        "u_r(\\sigma_r, \\sigma_c) = 0.2 \\times 0.6 \\times 1 + 0.2 \\times 0.4 \\times (-1) + 0.8 \\times 0.6 \\times (-1) + 0.8 \\times 0.4 \\times 1=-0.12,\n",
        "$$\n",
        "\n",
        "$$\n",
        "u_c(\\sigma_r, \\sigma_c) = 0.2 \\times 0.6 \\times (-1) + 0.2 \\times 0.4 \\times 1 + 0.8 \\times 0.6 \\times 1 + 0.8 \\times 0.4 \\times (-1)=0.12.\n",
        "$$\n",
        "\n",
        "---\n",
        "\n",
        "### Гра лоббіювання\n",
        "\n",
        "$$\n",
        "A =\n",
        "\\begin{pmatrix}\n",
        "    -5 & 25\\\\\n",
        "    0 & 10\n",
        "\\end{pmatrix}\\qquad\n",
        "B =\n",
        "\\begin{pmatrix}\n",
        "    -5 & 0\\\\\n",
        "    15 & 10\n",
        "\\end{pmatrix}\n",
        "$$\n",
        "\n",
        "Знайти найкращі відповіді і рівноваги Неша.\n",
        "\n",
        "---\n",
        "\n",
        "## Лінійні перетворення\n",
        "\n",
        "Зауважимо, що ми можемо перекомпонувати вирази для корисностей:\n",
        "\n",
        "$$\n",
        "u_r(\\sigma_r, \\sigma_c) = \\sum_{i=1}^m{\\sigma_r}_i\\sum_{j=1}^nA_{ij}{\\sigma_c}_j\n",
        "$$\n",
        "\n",
        "$$\n",
        "u_c(\\sigma_r, \\sigma_c) = \\sum_{i=1}^m{\\sigma_r}_i\\sum_{j=1}^nB_{ij}{\\sigma_c}_j\n",
        "$$\n",
        "\n",
        "що, в свою чергу, приводить до наступного добутку матриць\n",
        "\n",
        "$$\n",
        "u_r(\\sigma_r, \\sigma_c) = {\\sigma_r}A\\sigma_c^T\n",
        "$$\n",
        "\n",
        "$$\n",
        "u_c(\\sigma_r, \\sigma_c) = {\\sigma_r}B\\sigma_c^T\n",
        "$$\n",
        "\n",
        "Давайте перевіримо програмуванням."
      ]
    },
    {
      "cell_type": "code",
      "metadata": {
        "id": "qC-fEYMYmt6k",
        "colab_type": "code",
        "outputId": "523108cd-9f2f-4dd0-e4ab-9d4f27185ca3",
        "colab": {
          "base_uri": "https://localhost:8080/",
          "height": 34
        }
      },
      "source": [
        "import numpy as np\n",
        "A = np.array([[1, -1], [-1, 1]])\n",
        "B = np.array([[-1, 1], [1, -1]])\n",
        "sigma_r = np.array([.2, .8])\n",
        "sigma_c = np.array([.6, .4])\n",
        "np.dot(sigma_r, np.dot(A, sigma_c)), np.dot(sigma_r, np.dot(B, sigma_c))\n",
        "\n",
        "sigma_r = np.array([.333, .666])\n",
        "sigma_c = np.array([.666, .333])\n",
        "np.dot(sigma_r, np.dot(A, sigma_c)), np.dot(sigma_r, np.dot(B, sigma_c))"
      ],
      "execution_count": 0,
      "outputs": [
        {
          "output_type": "execute_result",
          "data": {
            "text/plain": [
              "(-0.11088900000000002, 0.11088900000000002)"
            ]
          },
          "metadata": {
            "tags": []
          },
          "execution_count": 6
        }
      ]
    },
    {
      "cell_type": "code",
      "metadata": {
        "id": "ko0ktAywmzUQ",
        "colab_type": "code",
        "outputId": "a4d3cf38-c1bf-4be9-c3f2-658a5151cc6b",
        "colab": {
          "base_uri": "https://localhost:8080/",
          "height": 34
        }
      },
      "source": [
        "matching_pennies[sigma_r, sigma_c]"
      ],
      "execution_count": 0,
      "outputs": [
        {
          "output_type": "execute_result",
          "data": {
            "text/plain": [
              "array([-0.110889,  0.110889])"
            ]
          },
          "metadata": {
            "tags": []
          },
          "execution_count": 7
        }
      ]
    },
    {
      "cell_type": "markdown",
      "metadata": {
        "id": "f-Vj_92RnTeE",
        "colab_type": "text"
      },
      "source": [
        "Тепер обчислимо рівноваги Неша"
      ]
    },
    {
      "cell_type": "code",
      "metadata": {
        "id": "IyrVDSIcnXlK",
        "colab_type": "code",
        "outputId": "219ece16-f5e0-483a-95d5-62b4624eb31c",
        "colab": {
          "base_uri": "https://localhost:8080/",
          "height": 34
        }
      },
      "source": [
        "list(matching_pennies.support_enumeration())"
      ],
      "execution_count": 0,
      "outputs": [
        {
          "output_type": "execute_result",
          "data": {
            "text/plain": [
              "[(array([0.5, 0.5]), array([0.5, 0.5]))]"
            ]
          },
          "metadata": {
            "tags": []
          },
          "execution_count": 8
        }
      ]
    },
    {
      "cell_type": "markdown",
      "metadata": {
        "id": "IyFMBC1Cnixb",
        "colab_type": "text"
      },
      "source": [
        "\n",
        "\n",
        "Обчислимо рівноваги Неша в грі лобіювання"
      ]
    },
    {
      "cell_type": "code",
      "metadata": {
        "id": "tH2DjkRonmF4",
        "colab_type": "code",
        "outputId": "45c06102-4514-4c0c-d66c-85000f01d897",
        "colab": {
          "base_uri": "https://localhost:8080/",
          "height": 34
        }
      },
      "source": [
        "A = np.array([[-5, 25], [0, 10]])\n",
        "B = np.array([[-5, 0], [15, 10]])\n",
        "lobbying_game = nash.Game(A, B)\n",
        "sigma_r = np.array([0.5, 0.5])\n",
        "sigma_c = np.array([.75, .25])\n",
        "lobbying_game[sigma_r, sigma_c]"
      ],
      "execution_count": 0,
      "outputs": [
        {
          "output_type": "execute_result",
          "data": {
            "text/plain": [
              "array([2.5, 5. ])"
            ]
          },
          "metadata": {
            "tags": []
          },
          "execution_count": 9
        }
      ]
    },
    {
      "cell_type": "code",
      "metadata": {
        "id": "AiAk6hWGnri8",
        "colab_type": "code",
        "outputId": "8f39b518-60c6-41e6-a098-0e71260ef34b",
        "colab": {
          "base_uri": "https://localhost:8080/",
          "height": 68
        }
      },
      "source": [
        "\n",
        "list(lobbying_game.support_enumeration())"
      ],
      "execution_count": 25,
      "outputs": [
        {
          "output_type": "execute_result",
          "data": {
            "text/plain": [
              "[(array([1., 0.]), array([0., 1.])),\n",
              " (array([0., 1.]), array([1., 0.])),\n",
              " (array([0.5, 0.5]), array([0.75, 0.25]))]"
            ]
          },
          "metadata": {
            "tags": []
          },
          "execution_count": 25
        }
      ]
    },
    {
      "cell_type": "markdown",
      "metadata": {
        "id": "BrzVLID2nxE4",
        "colab_type": "text"
      },
      "source": [
        "Щоб пояснити цей результат потрібне ще деяка теорія"
      ]
    },
    {
      "cell_type": "markdown",
      "metadata": {
        "id": "NBUKV5TdnI0I",
        "colab_type": "text"
      },
      "source": [
        "# Найкраща відповідь\n",
        "\n",
        "---\n",
        "\n",
        "## Визначення найкращої відповіді\n",
        "\n",
        "В грі двох учасників $(A,B)\\in{\\mathbb{R}^{m\\times n}}^2$ змішана стратегія $\\sigma_1^*$  першого гравця є найкращою відповіддю на стратегію другого гравця $\\sigma_2$ iff, якщо:\n",
        "\n",
        "$$\n",
        "\\sigma_1^*=\\text{argmax}_{\\sigma_1\\in S_1}\\sigma_1A\\sigma_2^T.\n",
        "$$\n",
        "\n",
        "Аналогічно, змішана стратегія $\\sigma_2^*$ другого гравця є найкращою відповіддю на стратегію першого гравця $\\sigma_1$ тоді і тільки тоді, коли:\n",
        "\n",
        "$$\n",
        "\\sigma_2^*=\\text{argmax}_{\\sigma_2\\in S_2}\\sigma_1B\\sigma_2^T.\n",
        "$$\n",
        "\n",
        "---\n",
        "\n",
        "Іншими словами: найкраща відповідь максимізує корисність гравця для заданої стратегії іншого гравця.\n",
        "\n",
        "## Найкращі відповіді в Дилемі ув'язеного\n",
        "\n",
        "Розглянемо ДУ:\n",
        "\n",
        "$$\n",
        "A = \\begin{pmatrix}\n",
        "3 & 0\\\\\n",
        "5 & 1\n",
        "\\end{pmatrix}\\qquad\n",
        "B = \\begin{pmatrix}\n",
        "3 & 5\\\\\n",
        "0 & 1\n",
        "\\end{pmatrix}\n",
        "$$\n",
        "\n",
        "знаходимо найкращі відповіді для одного\n",
        "\n",
        "$$\n",
        "A = \\begin{pmatrix}\n",
        "3 & 0\\\\\n",
        "\\underline{5} & \\underline{1}\n",
        "\\end{pmatrix}\n",
        "$$\n",
        "\n",
        "та іншого гравця\n",
        "\n",
        "$$\n",
        "B = \\begin{pmatrix}\n",
        "3 & \\underline{5}\\\\\n",
        "0 & \\underline{1}\n",
        "\\end{pmatrix}\n",
        "$$\n",
        "\n",
        "Очевидно, що для кожного гравця найкраща відповідь - це друга стратегія.\n",
        "\n",
        "## Найкращі відповіді в орлянці\n",
        "\n",
        "Розглянемо найкращі відповіді в цій грі \n",
        "\n",
        "$$\n",
        "A = \\begin{pmatrix}\n",
        "\\underline{1} & -1\\\\\n",
        "-1 & \\underline{1}\n",
        "\\end{pmatrix}\\qquad\n",
        "B = \\begin{pmatrix}\n",
        "-1 & \\underline{1}\\\\\n",
        "\\underline{1} & -1\n",
        "\\end{pmatrix}\n",
        "$$\n",
        "\n",
        "Тепер найкращі відповіді суттєво залежать від дій опонента. Тепер припустимо, що гравці використовують змішані стратегії:\n",
        "\n",
        "- Нехай $\\sigma_1=(x,1-x)$\n",
        "- Нехай $\\sigma_2=(y,1-y)$\n",
        "\n",
        "Отримуємо результат:\n",
        "\n",
        "$$\n",
        "A\\sigma_c^T = \\begin{pmatrix}\n",
        "2y-1\\\\\n",
        "1-2y\n",
        "\\end{pmatrix}\\qquad\n",
        "\\sigma_rB = \\begin{pmatrix}\n",
        "1-2x & 2x-1\n",
        "\\end{pmatrix}\n",
        "$$"
      ]
    },
    {
      "cell_type": "code",
      "metadata": {
        "id": "rKafLf3-oCQd",
        "colab_type": "code",
        "outputId": "3555f132-2d87-4a93-d07e-db05cc9af797",
        "colab": {
          "base_uri": "https://localhost:8080/",
          "height": 34
        }
      },
      "source": [
        "import sympy as sym\n",
        "import numpy as np\n",
        "sym.init_printing()\n",
        "\n",
        "x, y = sym.symbols('x, y')\n",
        "A = sym.Matrix([[1, -1], [-1, 1]])\n",
        "B = - A\n",
        "sigma_r = sym.Matrix([[x, 1-x]])\n",
        "sigma_c = sym.Matrix([y, 1-y])\n",
        "A * sigma_c, sigma_r * B"
      ],
      "execution_count": 20,
      "outputs": [
        {
          "output_type": "execute_result",
          "data": {
            "text/latex": "$$\\left ( \\left[\\begin{matrix}2 y - 1\\\\- 2 y + 1\\end{matrix}\\right], \\quad \\left[\\begin{matrix}- 2 x + 1 & 2 x - 1\\end{matrix}\\right]\\right )$$",
            "text/plain": [
              "⎛⎡2⋅y - 1 ⎤                     ⎞\n",
              "⎜⎢        ⎥, [-2⋅x + 1  2⋅x - 1]⎟\n",
              "⎝⎣-2⋅y + 1⎦                     ⎠"
            ]
          },
          "metadata": {
            "tags": []
          },
          "execution_count": 20
        }
      ]
    },
    {
      "cell_type": "code",
      "metadata": {
        "id": "yAil5BE-o1Rt",
        "colab_type": "code",
        "colab": {
          "base_uri": "https://localhost:8080/",
          "height": 299
        },
        "outputId": "4f9e993d-59a0-48b9-9dbe-474edfa0be01"
      },
      "source": [
        "import matplotlib\n",
        "import matplotlib.pyplot as plt\n",
        "%matplotlib inline\n",
        "matplotlib.rc(\"savefig\", dpi=100)  \n",
        "\n",
        "ys = [0, 1]\n",
        "row_us = [[(A * sigma_c)[i].subs({y: val}) for val in ys] for i in range(2)]\n",
        "plt.plot(ys, row_us[0], label=\"$(A\\sigma_c^T)_1$\")\n",
        "plt.plot(ys, row_us[1], label=\"$(A\\sigma_c^T)_2$\")\n",
        "plt.xlabel(\"$\\sigma_c=(y, 1-y)$\")\n",
        "plt.title(\"Вираш першого гравця\")\n",
        "plt.legend();"
      ],
      "execution_count": 18,
      "outputs": [
        {
          "output_type": "display_data",
          "data": {
            "image/png": "[encoded data removed]",
            "text/plain": [
              "<Figure size 432x288 with 1 Axes>"
            ]
          },
          "metadata": {
            "tags": []
          }
        }
      ]
    },
    {
      "cell_type": "markdown",
      "metadata": {
        "id": "5b1rpyfBpPee",
        "colab_type": "text"
      },
      "source": [
        "Отже найкращі відповіді на змішані стратегії визначаються наступним чином:\n",
        "\n",
        "$$\n",
        "\\sigma_r^* = \n",
        "\\begin{cases}\n",
        "(1, 0),&\\text{ if } y > 1/2\\\\\n",
        "(0, 1),&\\text{ if } y < 1/2\\\\\n",
        "\\text{indifferent},&\\text{ if } y = 1/2\n",
        "\\end{cases}\n",
        "\\qquad\n",
        "\\sigma_c^* = \n",
        "\\begin{cases}\n",
        "(0, 1),&\\text{ if } x > 1/2\\\\\n",
        "(1, 0),&\\text{ if } x < 1/2\\\\\n",
        "\\text{indifferent},&\\text{ if } x = 1/2\n",
        "\\end{cases}\n",
        "$$\n",
        "\n",
        "В даному випадку ми бачимо, що для кожної заданої стратегії найкраща відповідь це або чиста стратегія або змішана стратегія в випадку, коли виграші від чистих стратегій однакові. \n",
        "\n",
        "Наприклад:\n",
        "\n",
        "- Якщо $\\sigma_c=(1/4, 3/4)$ ($y=1/4$) то найкраща відповідь дорівнює $\\sigma_r^*=(0,1)$\n",
        "- Якщо $\\sigma_c=(1/2, 1/2)$ ($y=1/2$) то будь-яка змішана стратегія - це найкраща відповідь, **але** фактично обидві чисті стратегії дають однаковий виграш (там де лінії перетинаються).\n",
        "\n",
        "\n",
        "---\n",
        "\n",
        "##  Умови найкращої відповіді\n",
        "\n",
        "\n",
        "У грі двох гравців $(A,B)\\in{\\mathbb{R}^{m\\times n}}^2$ змішана стратегія $\\sigma_r^*$  першого гравця є найкращою відповіддю на стратегію другого гравця $\\sigma_c$ ттк:\n",
        "\n",
        "$${\\sigma_r^*}_i > 0 \\Rightarrow (A\\sigma_c^T)_i = \\max_{k}(A\\sigma_c^T)_k\\text{ for all }1\\leq i\\leq m$$\n",
        "\n",
        "### Доведення\n",
        "\n",
        "Нехай $(A\\sigma_c^T)_i$ - це виграш першого гравця, коли він грає свою  $i$-ту стратегію. Тоді:\n",
        "\n",
        "$$\\sigma_rA\\sigma_c^T=\\sum_{i=1}^{m}{\\sigma_r}_i(A\\sigma_c^T)_i$$\n",
        "\n",
        "Нехай $u=\\max_{k}(A\\sigma_c^T)_k$. Тоді:\n",
        "\n",
        "$$\n",
        "\\begin{align}\n",
        "\\sigma_rA\\sigma_c^T&=\\sum_{i=1}^{m}{\\sigma_r}_i(u - u + (A\\sigma_c^T)_i)\\\\\n",
        "                   &=\\sum_{i=1}^{m}{\\sigma_r}_iu - \\sum_{i=1}^{m}{\\sigma_r}_i(u - (A\\sigma_c^T)_i)\\\\\n",
        "                   &=u - \\sum_{i=1}^{m}{\\sigma_r}_i(u - (A\\sigma_c^T)_i)\n",
        "\\end{align}$$\n",
        "\n",
        "Ми знаємо, що $u - (A\\sigma_c^T)_i\\geq 0$, тому найбільше $\\sigma_rA\\sigma_c^T$ можливо для $u$ рівного $(A\\sigma_c^T)_i)$, як і вимагалось довести.\n",
        "\n",
        "---\n",
        "\n",
        "Повертаючись до нашого прикладу. Якщо $\\sigma_c=(1/2, 1/2)$, $(A\\sigma_c^T)=(0, 0)$, то $(A\\sigma_c^T)_i = 0$ для всіх $i$.\n",
        "\n",
        "Зауважимо, що хоча кожна стратегія є найкращою відповіддю на $(1/2, 1/2)$ пара стратегій $(\\sigma_r, \\sigma_c) = ((1/2, 1/2), (1/2, 1/2))$ є єдиною парою стратегій, які найкраща відповідь одна на одну. Цей зв'язок і називають  **Рівновагою Неша**.\n",
        "\n",
        "## Визначення рівноваги Неша\n",
        "\n",
        "В грі двох учасників $(A,B)\\in{\\mathbb{R}^{m\\times n}}^2$, $(\\sigma_r, \\sigma_c)$ є рівновагою Неша якщо  $\\sigma_r$ - найкраща відповідь на $\\sigma_c$ і навпаки."
      ]
    },
    {
      "cell_type": "markdown",
      "metadata": {
        "id": "jZVmDE6MqUaG",
        "colab_type": "text"
      },
      "source": [
        "## Розуміння рівноваги в змішаних стратегіях\n",
        "\n",
        "1. Для ігор 2х2 є чіткий алгоритм. Завжди є розв'язок.\n",
        "\n",
        "2. Для ігор більшої розмірності є алгоритми пошуку:\n",
        "  \n",
        "  2.1 Support enumeration\n",
        "  \n",
        "  2.2. Vertex enumeration\n",
        "  \n",
        "  2.3 Lemke-Howson\n",
        "\n",
        "## Приклад. Гра пенальті.\n",
        "\n",
        "Розглянемо гру:\n",
        "\n",
        "$$\n",
        "A =\n",
        "\\begin{pmatrix}\n",
        "    0.6 & 0.9\\\\\n",
        "    0.9 & 0.6\n",
        "\\end{pmatrix}\\qquad\n",
        "B =\n",
        "\\begin{pmatrix}\n",
        "    0.4 & 0.1\\\\\n",
        "    0.1 & 0.4\n",
        "\\end{pmatrix}\n",
        "$$\n",
        "\n",
        "Знайдемо рівновагу Неша\n",
        "\n",
        "Тепер припустимо, що у футболіста одна нога основна\n",
        "\n",
        "$$\n",
        "A =\n",
        "\\begin{pmatrix}\n",
        "    0.6 & 0.9\\\\\n",
        "    0.75 & 0.5\n",
        "\\end{pmatrix}\\qquad\n",
        "B =\n",
        "\\begin{pmatrix}\n",
        "    0.4 & 0.1\\\\\n",
        "    0.25 & 0.5\n",
        "\\end{pmatrix}\n",
        "$$\n",
        "\n",
        "\n"
      ]
    },
    {
      "cell_type": "markdown",
      "metadata": {
        "id": "YR44cCZepZ1t",
        "colab_type": "text"
      },
      "source": [
        "## Задачі для роботи в класі\n",
        "\n",
        "1. Two players have 10 euros to divide between themselves. To do so, they use the following procedure: each player names a number of Euros (a non-negative integer), at most equal to 10. If the sum of the two numbers is at most 10 then each player receives the amount of money she names (and the remainder is destroyed). If the sum of the numbers exceeds 10 and the two numbers are different then the player who names the smaller number receives that amount and the other player receives the remaining money. If the sum of the numbers exceeds 10 and the two numbers are equal each player receives 5 Euros. Determine the best-reply correspondence of each player, plot them in a diagram, and find the Nash equilibria of the game.\n",
        "2. Each of two firms has one job opening. Suppose that (for reasons not discussed here but relating to the value of filling each opening) the firms offer different wages: firm 𝑖 offers the wage 𝑤1,where 1 𝑤1 < 𝑤2 < 2𝑤1. Imagine that there are two workers, each of whom can apply to only one firm. 2 The workers simultaneously decide whether to apply to firm 1 or to firm 2. If only one worker applies to a given firm, that worker gets the job; if both workers apply to one firm, the firm hires one worker at random and the other worker is unemployed (which has a payoff of zero).\n",
        "    a. Represent the workers’ normal form game.\n",
        "    b. Solve for the Nash equilibria (in pure strategies) of the game obtained in (a).\n",
        "3. Cops and Robbers: Player 1 is a police officer who must decide whether to patrol the streets or to hang out at the coffee shop. His payoff from hanging out at the coffee shop is 10, while his payoff from patrolling the streets depends on whether he catches a robber, who is player 2. If the robber prowls the streets then the police officer will catch him and obtain a payoff of 20. If the robber stays in his hideaway then the officer’s payoff is 0. The robber must choose between staying hidden or prowling the streets. If he stays hidden then his payoff is 0, while if he prowls the streets his payoff is −10 if the officer is patrolling the streets and 10 if the officer is at the coffee shop.\n",
        "    a. Write down the matrix form of this game.\n",
        "    b. Draw the best-response function of each player.\n",
        "    c. Find the Nash equilibrium of this game. What kind of game does this game remind you of?\n",
        "4. Market Entry: Three firms are considering entering a new market. The payoff for each firm that enters is 150/n , where n is the number of firms that enter. The cost of entering is 62\n",
        "    a. Find all the pure-strategy Nash equilibria.\n",
        "    b. Find the symmetric mixed-strategy equilibrium in which all three players enter with the same probability."
      ]
    },
    {
      "cell_type": "markdown",
      "metadata": {
        "id": "uDlMFFUOgheN",
        "colab_type": "text"
      },
      "source": [
        "## Джерела\n",
        "\n",
        "1. Azu Ozdaglar Game Theory with Engineering Applications\n",
        "2. Tim Rougharten Twenty lectures about Algorithmic game theory\n",
        "3. Vincent Knight https://vknight.org/gt/\n",
        "4. Thomas S. Ferguson Game Theory\n",
        "5. Michael H. Albert Richard J. Nowakowski David Wolfe Lessons in Play An Introduction to Combinatorial Game Theory"
      ]
    }
  ]
}