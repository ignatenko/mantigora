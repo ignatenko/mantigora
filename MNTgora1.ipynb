{
  "nbformat": 4,
  "nbformat_minor": 0,
  "metadata": {
    "colab": {
      "name": "MNTgora1.ipynb",
      "version": "0.3.2",
      "provenance": [],
      "collapsed_sections": [],
      "include_colab_link": true
    },
    "kernelspec": {
      "name": "python3",
      "display_name": "Python 3"
    }
  },
  "cells": [
    {
      "cell_type": "markdown",
      "metadata": {
        "id": "view-in-github",
        "colab_type": "text"
      },
      "source": [
        "<a href=\"https://colab.research.google.com/github/ignatenko/mantigora/blob/master/MNTgora1.ipynb\" target=\"_parent\"><img src=\"https://colab.research.google.com/assets/colab-badge.svg\" alt=\"Open In Colab\"/></a>"
      ]
    },
    {
      "cell_type": "code",
      "metadata": {
        "id": "OefVvjKH767P",
        "colab_type": "code",
        "colab": {}
      },
      "source": [
        ""
      ],
      "execution_count": 0,
      "outputs": []
    },
    {
      "cell_type": "markdown",
      "metadata": {
        "id": "TVDQ8JPH78lt",
        "colab_type": "text"
      },
      "source": [
        "# Семінар КАУ з наукової літератури \"MHTІгорА\". Тема : Why model?\n",
        "\n",
        "\n",
        "---\n",
        "\n",
        "\n",
        "## План лекції\n",
        "\n",
        "1. Моделі, чому ми моделюємо.\n",
        "2. Теорія ігор, мультиагентні системи, штучний інтелект та машинне навчання. Який зв'язок?\n",
        "3. Агентний підхід до моделювання.\n",
        "4. Цілі моделювання. Задача Дейкстри.\n",
        "5. Емерджентність. Приклад: зграйна поведінка.\n",
        "6. Мультиагентні системи їх характеристики і властивості.\n",
        "7. Модель Шелінга. \n",
        "8. Проблематика МАС.\n",
        "9. Джерела і література.\n",
        "10. Напрямки і пропозиції."
      ]
    },
    {
      "cell_type": "markdown",
      "metadata": {
        "id": "QzxuG_4t8I9Q",
        "colab_type": "text"
      },
      "source": [
        "\n",
        "## Складні системи\n",
        "\n",
        "Складні системи це мережі, що складається з компонентів зв'язаних між собою (як правило нелінійно). Складні системи можуть виникати і еволюціонувати через самоорганізацію, тому вони не є ні повністю упорядкованими ні повністю випадковими, що допускає розвиток емерджентності на макроскопічному рівні.\n",
        "**Hiroki Sayama**"
      ]
    },
    {
      "cell_type": "markdown",
      "metadata": {
        "id": "EWjbdqWk9LfG",
        "colab_type": "text"
      },
      "source": [
        "![diagram](./images/Complex_systems_organizational_map.jpg)"
      ]
    },
    {
      "cell_type": "markdown",
      "metadata": {
        "id": "QimBm7yt9t5A",
        "colab_type": "text"
      },
      "source": [
        ""
      ]
    }
  ]
}